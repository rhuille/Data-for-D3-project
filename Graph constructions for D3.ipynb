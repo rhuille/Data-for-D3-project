{
 "cells": [
  {
   "cell_type": "code",
   "execution_count": 1,
   "metadata": {
    "collapsed": false
   },
   "outputs": [],
   "source": [
    "from pandas import *\n",
    "import json"
   ]
  },
  {
   "cell_type": "code",
   "execution_count": 4,
   "metadata": {
    "collapsed": false
   },
   "outputs": [
    {
     "data": {
      "text/html": [
       "<div>\n",
       "<table border=\"1\" class=\"dataframe\">\n",
       "  <thead>\n",
       "    <tr style=\"text-align: right;\">\n",
       "      <th></th>\n",
       "      <th>Losers</th>\n",
       "      <th>Scores_Losers</th>\n",
       "      <th>Scores_Winners</th>\n",
       "      <th>Winners</th>\n",
       "      <th>Years</th>\n",
       "    </tr>\n",
       "  </thead>\n",
       "  <tbody>\n",
       "    <tr>\n",
       "      <th>0</th>\n",
       "      <td>TSONGA</td>\n",
       "      <td>177661</td>\n",
       "      <td>65576</td>\n",
       "      <td>DJOKOVIC</td>\n",
       "      <td>2012</td>\n",
       "    </tr>\n",
       "    <tr>\n",
       "      <th>1</th>\n",
       "      <td>DEL POTRO</td>\n",
       "      <td>674203</td>\n",
       "      <td>36666</td>\n",
       "      <td>FEDERER</td>\n",
       "      <td>2012</td>\n",
       "    </tr>\n",
       "    <tr>\n",
       "      <th>2</th>\n",
       "      <td>MURRAY</td>\n",
       "      <td>47332</td>\n",
       "      <td>6666</td>\n",
       "      <td>FERRER</td>\n",
       "      <td>2012</td>\n",
       "    </tr>\n",
       "    <tr>\n",
       "      <th>3</th>\n",
       "      <td>ALMAGRO</td>\n",
       "      <td>6423</td>\n",
       "      <td>766</td>\n",
       "      <td>NADAL</td>\n",
       "      <td>2012</td>\n",
       "    </tr>\n",
       "    <tr>\n",
       "      <th>4</th>\n",
       "      <td>FEDERER</td>\n",
       "      <td>453</td>\n",
       "      <td>676</td>\n",
       "      <td>DJOKOVIC</td>\n",
       "      <td>2012</td>\n",
       "    </tr>\n",
       "  </tbody>\n",
       "</table>\n",
       "</div>"
      ],
      "text/plain": [
       "      Losers Scores_Losers Scores_Winners   Winners  Years\n",
       "0     TSONGA        177661          65576  DJOKOVIC   2012\n",
       "1  DEL POTRO        674203          36666   FEDERER   2012\n",
       "2     MURRAY         47332           6666    FERRER   2012\n",
       "3    ALMAGRO          6423            766     NADAL   2012\n",
       "4    FEDERER           453            676  DJOKOVIC   2012"
      ]
     },
     "execution_count": 4,
     "metadata": {},
     "output_type": "execute_result"
    }
   ],
   "source": [
    "df = read_csv(\"rolland_garros.csv\")\n",
    "df.head() #only the \"Losers\" and \"Winners\" columns will be used"
   ]
  },
  {
   "cell_type": "code",
   "execution_count": 5,
   "metadata": {
    "collapsed": false
   },
   "outputs": [
    {
     "data": {
      "text/plain": [
       "(49, 5)"
      ]
     },
     "execution_count": 5,
     "metadata": {},
     "output_type": "execute_result"
    }
   ],
   "source": [
    "df.shape"
   ]
  },
  {
   "cell_type": "code",
   "execution_count": 6,
   "metadata": {
    "collapsed": false
   },
   "outputs": [],
   "source": [
    "nodes = []\n",
    "for joueur in list(set(df[\"Losers\"]).union(df[\"Winners\"])):\n",
    "    nodes += [{\"id\": joueur, \"victory\": len(df[df.Winners == joueur]), \"defeat\": len(df[df.Losers == joueur])}]"
   ]
  },
  {
   "cell_type": "code",
   "execution_count": 7,
   "metadata": {
    "collapsed": false
   },
   "outputs": [],
   "source": [
    "counter = {}\n",
    "for j in range(df.shape[0]):\n",
    "    if (df.Winners[j], df.Losers[j]) not in counter.keys():\n",
    "        counter[df.Winners[j], df.Losers[j]]=1\n",
    "    else:\n",
    "        counter[df.Winners[j], df.Losers[j]]+=1"
   ]
  },
  {
   "cell_type": "code",
   "execution_count": 8,
   "metadata": {
    "collapsed": false
   },
   "outputs": [],
   "source": [
    "links={}\n",
    "for i in counter:\n",
    "    if (i[1],i[0]) not in links.keys():\n",
    "        links[i]={'source': i[0], 'target': i[1], 'victory '+i[0]: counter[i] ,'victory '+i[1]: 0}\n",
    "        for j in counter:\n",
    "            if j == (i[1],i[0]):\n",
    "                links[i]['victory '+i[1]]=counter[j]"
   ]
  },
  {
   "cell_type": "code",
   "execution_count": 9,
   "metadata": {
    "collapsed": false
   },
   "outputs": [],
   "source": [
    "with open('rolland.json', 'w') as f: #this data file is used in: \n",
    "     json.dump({\"nodes\": nodes, \"links\": list(links.values())}, f)"
   ]
  }
 ],
 "metadata": {
  "kernelspec": {
   "display_name": "Python 3",
   "language": "python",
   "name": "python3"
  },
  "language_info": {
   "codemirror_mode": {
    "name": "ipython",
    "version": 3
   },
   "file_extension": ".py",
   "mimetype": "text/x-python",
   "name": "python",
   "nbconvert_exporter": "python",
   "pygments_lexer": "ipython3",
   "version": "3.4.4"
  }
 },
 "nbformat": 4,
 "nbformat_minor": 0
}
