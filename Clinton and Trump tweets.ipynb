{
 "cells": [
  {
   "cell_type": "markdown",
   "metadata": {},
   "source": [
    "# Clinton and Trump tweets\n",
    "\n",
    "This notebook prepares and collects data for this visu : https://bl.ocks.org/rhuille/89b683aecf83e14c5e620a9cd9bcc0fb"
   ]
  },
  {
   "cell_type": "code",
   "execution_count": 1,
   "metadata": {},
   "outputs": [],
   "source": [
    "from pandas import *\n",
    "from numpy import *\n",
    "import matplotlib.pyplot as plt\n",
    "import string\n",
    "import urllib.request\n",
    "from bs4 import BeautifulSoup \n",
    "\n",
    "import matplotlib\n",
    "matplotlib.style.use('ggplot')\n",
    "%matplotlib inline"
   ]
  },
  {
   "cell_type": "markdown",
   "metadata": {},
   "source": [
    "Data from kaggle : https://www.kaggle.com/benhamner/clinton-trump-tweets\n",
    "\n",
    "This script generates a dataset for this visualusation : http://bl.ocks.org/rhuille/89b683aecf83e14c5e620a9cd9bcc0fb\n",
    "\n",
    "**I want to determine how many times some interesting words, such \"economy\" or \"love\", are used in this set of political tweets**"
   ]
  },
  {
   "cell_type": "code",
   "execution_count": 2,
   "metadata": {},
   "outputs": [
    {
     "data": {
      "text/html": [
       "<div>\n",
       "<table border=\"1\" class=\"dataframe\">\n",
       "  <thead>\n",
       "    <tr style=\"text-align: right;\">\n",
       "      <th></th>\n",
       "      <th>handle</th>\n",
       "      <th>text</th>\n",
       "      <th>time</th>\n",
       "    </tr>\n",
       "    <tr>\n",
       "      <th>id</th>\n",
       "      <th></th>\n",
       "      <th></th>\n",
       "      <th></th>\n",
       "    </tr>\n",
       "  </thead>\n",
       "  <tbody>\n",
       "    <tr>\n",
       "      <th>780925634159796224</th>\n",
       "      <td>HillaryClinton</td>\n",
       "      <td>The question in this election: Who can put the...</td>\n",
       "      <td>2016-09-28T00:22:34</td>\n",
       "    </tr>\n",
       "    <tr>\n",
       "      <th>780916180899037184</th>\n",
       "      <td>HillaryClinton</td>\n",
       "      <td>Last night, Donald Trump said not paying taxes...</td>\n",
       "      <td>2016-09-27T23:45:00</td>\n",
       "    </tr>\n",
       "    <tr>\n",
       "      <th>780911564857761793</th>\n",
       "      <td>HillaryClinton</td>\n",
       "      <td>Couldn't be more proud of @HillaryClinton. Her...</td>\n",
       "      <td>2016-09-27T23:26:40</td>\n",
       "    </tr>\n",
       "    <tr>\n",
       "      <th>780907038650068994</th>\n",
       "      <td>HillaryClinton</td>\n",
       "      <td>If we stand together, there's nothing we can't...</td>\n",
       "      <td>2016-09-27T23:08:41</td>\n",
       "    </tr>\n",
       "    <tr>\n",
       "      <th>780897419462602752</th>\n",
       "      <td>HillaryClinton</td>\n",
       "      <td>Both candidates were asked about how they'd co...</td>\n",
       "      <td>2016-09-27T22:30:27</td>\n",
       "    </tr>\n",
       "  </tbody>\n",
       "</table>\n",
       "</div>"
      ],
      "text/plain": [
       "                            handle  \\\n",
       "id                                   \n",
       "780925634159796224  HillaryClinton   \n",
       "780916180899037184  HillaryClinton   \n",
       "780911564857761793  HillaryClinton   \n",
       "780907038650068994  HillaryClinton   \n",
       "780897419462602752  HillaryClinton   \n",
       "\n",
       "                                                                 text  \\\n",
       "id                                                                      \n",
       "780925634159796224  The question in this election: Who can put the...   \n",
       "780916180899037184  Last night, Donald Trump said not paying taxes...   \n",
       "780911564857761793  Couldn't be more proud of @HillaryClinton. Her...   \n",
       "780907038650068994  If we stand together, there's nothing we can't...   \n",
       "780897419462602752  Both candidates were asked about how they'd co...   \n",
       "\n",
       "                                   time  \n",
       "id                                       \n",
       "780925634159796224  2016-09-28T00:22:34  \n",
       "780916180899037184  2016-09-27T23:45:00  \n",
       "780911564857761793  2016-09-27T23:26:40  \n",
       "780907038650068994  2016-09-27T23:08:41  \n",
       "780897419462602752  2016-09-27T22:30:27  "
      ]
     },
     "execution_count": 2,
     "metadata": {},
     "output_type": "execute_result"
    }
   ],
   "source": [
    "data = DataFrame.from_csv(\"tweets.csv\")[[\"handle\", \"text\", \"time\"]]\n",
    "data.head()"
   ]
  },
  {
   "cell_type": "markdown",
   "metadata": {},
   "source": [
    "Dates :"
   ]
  },
  {
   "cell_type": "code",
   "execution_count": 3,
   "metadata": {},
   "outputs": [
    {
     "name": "stdout",
     "output_type": "stream",
     "text": [
      "start: 2016-01-05T03:36:53 end: 2016-09-28T00:22:34\n"
     ]
    }
   ],
   "source": [
    "print(\"start:\", min(data[\"time\"]), \"end:\", max(data[\"time\"]))"
   ]
  },
  {
   "cell_type": "code",
   "execution_count": 4,
   "metadata": {},
   "outputs": [
    {
     "data": {
      "image/png": "[encoded data removed]",
      "text/plain": [
       "<matplotlib.figure.Figure at 0x8e0d748>"
      ]
     },
     "metadata": {},
     "output_type": "display_data"
    }
   ],
   "source": [
    "plt.figure()\n",
    "data.handle.value_counts().plot.bar()\n",
    "plt.show()"
   ]
  },
  {
   "cell_type": "markdown",
   "metadata": {},
   "source": [
    "We have approximately 3,000 tweets from @HillaryClinton and @realDonaldTrump : "
   ]
  },
  {
   "cell_type": "code",
   "execution_count": 5,
   "metadata": {},
   "outputs": [
    {
     "name": "stdout",
     "output_type": "stream",
     "text": [
      "@HillaryClinton : 3226 tweets\n",
      "@realDonaldTrump : 3218 tweets\n"
     ]
    }
   ],
   "source": [
    "print(\"@HillaryClinton :\", data[data.handle == \"HillaryClinton\"].shape[0], \"tweets\")\n",
    "print(\"@realDonaldTrump :\", data[data.handle == \"realDonaldTrump\"].shape[0], \"tweets\")"
   ]
  },
  {
   "cell_type": "markdown",
   "metadata": {},
   "source": [
    "The number of tweets is the same for the 2 candidates. Consequently, we do not have to normalize by the total number of tweets for each candidate."
   ]
  },
  {
   "cell_type": "code",
   "execution_count": 6,
   "metadata": {
    "collapsed": true
   },
   "outputs": [],
   "source": [
    "n_HillaryClinton = data[data.handle == \"HillaryClinton\"].shape[0]\n",
    "n_realDonaldTrump = data[data.handle == \"realDonaldTrump\"].shape[0]"
   ]
  },
  {
   "cell_type": "markdown",
   "metadata": {},
   "source": [
    "Here is the list of words I am interrested in : "
   ]
  },
  {
   "cell_type": "code",
   "execution_count": 7,
   "metadata": {},
   "outputs": [],
   "source": [
    "interesting_words ={\n",
    "    \"families\": [\"families\", \"family\"],\n",
    "    \"economy\" : [\"economy\"],\n",
    "    \"healthcare\" : [\"health\", \"healthcare\"],\n",
    "    \"people\":[\"person\", \"folks\", \"people\"],\n",
    "    \"job\":[\"job\"],\n",
    "    \"energy\" : [\"energy\"],\n",
    "    \"foreign\" : [\"foreign\"],\n",
    "    \"justice\": [\"justice\"],\n",
    "    \"women\" : [\"women\", \"woman\", \"wife\"],\n",
    "    \"gun\" : [\"gun\", \"weapon\"],\n",
    "    \"education\" : [\"education\"],\n",
    "    \"love\": [\"love\"],\n",
    "    \"dream\": [\"dream\"],\n",
    "    \"hate\":[\"hate\", \"hatred\"],\n",
    "    \"violence\": [\"violence\"],\n",
    "    \"money\": [\"money\"],\n",
    "    \"terrorism\": [\"terrorism\", \"terrorist\"],\n",
    "    \"taxes\": [\"tax\", \"taxes\"],\n",
    "    \"business\" : [\"company\", \"firms\", \"companies\", \"firm\", \"business\"],\n",
    "    \"trade\" : [\"trade\"],\n",
    "    \"climate\" : [\"climate\"]\n",
    "}\n",
    "\n",
    "list_words = []\n",
    "for i in interesting_words:\n",
    "    list_words += interesting_words[i]"
   ]
  },
  {
   "cell_type": "code",
   "execution_count": 8,
   "metadata": {
    "collapsed": true
   },
   "outputs": [],
   "source": [
    "ponctuation = set(string.punctuation + \"”—“’’\")\n",
    "\n",
    "def contain(tweet):\n",
    "    for word in list_words:\n",
    "        if word in ''.join(ch for ch in tweet if ch not in ponctuation).lower().split(\" \"):\n",
    "            return(True)\n",
    "    return(False)"
   ]
  },
  {
   "cell_type": "markdown",
   "metadata": {},
   "source": [
    "I keep the tweets containing these interesting words :"
   ]
  },
  {
   "cell_type": "code",
   "execution_count": 9,
   "metadata": {},
   "outputs": [
    {
     "name": "stdout",
     "output_type": "stream",
     "text": [
      "@HillaryClinton : 1010 tweets\n",
      "@realDonaldTrump : 608 tweets\n"
     ]
    }
   ],
   "source": [
    "complete_HillaryClinton = []\n",
    "for v,tweet in enumerate(data[data.handle == \"HillaryClinton\"].text):\n",
    "    if contain(tweet):\n",
    "        complete_HillaryClinton+= [{\"text\": tweet.replace(\"\\n\", \" \"), \"time\": data[data.handle==\"HillaryClinton\"].time.iloc[v][:10]}]\n",
    "print(\"@HillaryClinton :\", len(complete_HillaryClinton), \"tweets\")\n",
    "\n",
    "complete_realDonaldTrump = []\n",
    "for v,tweet in enumerate(data[data.handle == \"realDonaldTrump\"].text):\n",
    "    if contain(tweet):\n",
    "        complete_realDonaldTrump+= [{\"text\": tweet.replace(\"\\n\", \" \"), \"time\":data[data.handle==\"realDonaldTrump\"].time.iloc[v][:10]}]\n",
    "print(\"@realDonaldTrump :\", len(complete_realDonaldTrump), \"tweets\")"
   ]
  },
  {
   "cell_type": "markdown",
   "metadata": {},
   "source": [
    "I create an index to make it easy to get all the tweets containing a particular word : "
   ]
  },
  {
   "cell_type": "code",
   "execution_count": 10,
   "metadata": {},
   "outputs": [],
   "source": [
    "index_HillaryClinton = {i:[] for i in interesting_words.keys()}\n",
    "for v,tweet in enumerate(complete_HillaryClinton):\n",
    "    tweet = tweet[\"text\"]\n",
    "    tweet = ''.join(ch for ch in tweet if ch not in ponctuation).lower()\n",
    "    for i in interesting_words.keys():\n",
    "        for word in interesting_words[i]:\n",
    "            if word in tweet.split(\" \"):\n",
    "                index_HillaryClinton[i]+=[v]\n",
    "\n",
    "index_realDonaldTrump = {i:[] for i in interesting_words.keys()}\n",
    "for v,tweet in enumerate(complete_realDonaldTrump):\n",
    "    tweet = tweet[\"text\"]\n",
    "    tweet = ''.join(ch for ch in tweet if ch not in ponctuation).lower()\n",
    "    for i in interesting_words.keys():\n",
    "        for word in interesting_words[i]:\n",
    "            if word in tweet.split(\" \"):\n",
    "                index_realDonaldTrump[i]+=[v]"
   ]
  },
  {
   "cell_type": "markdown",
   "metadata": {},
   "source": [
    "The score of one word is equal to : Number of tweets containing the word / Total number of tweets "
   ]
  },
  {
   "cell_type": "code",
   "execution_count": 11,
   "metadata": {},
   "outputs": [],
   "source": [
    "score_HillaryClinton = []\n",
    "for i in index_HillaryClinton:\n",
    "    score_HillaryClinton+=[{\"word\": i, \"score\": len(index_HillaryClinton[i]) }]\n",
    "score_realDonaldTrump = []\n",
    "for i in index_realDonaldTrump:\n",
    "    score_realDonaldTrump+=[{\"word\": i, \"score\": len(index_realDonaldTrump[i]) }]"
   ]
  },
  {
   "cell_type": "markdown",
   "metadata": {},
   "source": [
    "Just to visualize : "
   ]
  },
  {
   "cell_type": "code",
   "execution_count": 12,
   "metadata": {},
   "outputs": [
    {
     "data": {
      "image/png": "[encoded data removed]",
      "text/plain": [
       "<matplotlib.figure.Figure at 0x8eb6048>"
      ]
     },
     "metadata": {},
     "output_type": "display_data"
    }
   ],
   "source": [
    "H = DataFrame(score_HillaryClinton).set_index(\"word\")\n",
    "H.columns = Series([\"@HillaryClinton\"])\n",
    "r = DataFrame(score_realDonaldTrump).set_index(\"word\")\n",
    "r.columns = Series([\"@realDonaldTrump\"])\n",
    "\n",
    "concat([r,H], axis=1).plot.bar(figsize  = (15,7))\n",
    "plt.show()"
   ]
  },
  {
   "cell_type": "code",
   "execution_count": 13,
   "metadata": {},
   "outputs": [],
   "source": [
    "with open('tweets.json', 'w') as f: #this data file is used in: \n",
    "     json.dump({\"complete_HillaryClinton\": complete_HillaryClinton, \n",
    "                \"complete_realDonaldTrump\": complete_realDonaldTrump,\n",
    "                \"index_HillaryClinton\": index_HillaryClinton,\n",
    "                \"index_realDonaldTrump\": index_realDonaldTrump,\n",
    "                \"score_HillaryClinton\": score_HillaryClinton,\n",
    "                \"score_realDonaldTrump\": score_realDonaldTrump,\n",
    "               \"n_HillaryClinton\": n_HillaryClinton,\n",
    "               \"n_realDonaldTrump\": n_realDonaldTrump}, f)"
   ]
  }
 ],
 "metadata": {
  "kernelspec": {
   "display_name": "Python 3",
   "language": "python",
   "name": "python3"
  },
  "language_info": {
   "codemirror_mode": {
    "name": "ipython",
    "version": 3
   },
   "file_extension": ".py",
   "mimetype": "text/x-python",
   "name": "python",
   "nbconvert_exporter": "python",
   "pygments_lexer": "ipython3",
   "version": "3.6.3"
  }
 },
 "nbformat": 4,
 "nbformat_minor": 1
}
