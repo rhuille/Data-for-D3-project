{
 "cells": [
  {
   "cell_type": "markdown",
   "metadata": {},
   "source": [
    "<img src=\"http://library.ithaca.edu/sp/assets/users/_bsaunders/election2016.jpg\"/>"
   ]
  },
  {
   "cell_type": "code",
   "execution_count": 1,
   "metadata": {
    "collapsed": false
   },
   "outputs": [],
   "source": [
    "from pandas import *\n",
    "from numpy import *\n",
    "import matplotlib.pyplot as plt\n",
    "import string\n",
    "import urllib.request\n",
    "from bs4 import BeautifulSoup \n",
    "\n",
    "import matplotlib\n",
    "matplotlib.style.use('ggplot')\n",
    "%matplotlib inline"
   ]
  },
  {
   "cell_type": "markdown",
   "metadata": {},
   "source": [
    "Data from kaggle : https://www.kaggle.com/benhamner/clinton-trump-tweets\n",
    "\n",
    "This script generates a dataset for this visualusation : http://bl.ocks.org/rhuille/89b683aecf83e14c5e620a9cd9bcc0fb"
   ]
  },
  {
   "cell_type": "code",
   "execution_count": 2,
   "metadata": {
    "collapsed": false
   },
   "outputs": [
    {
     "data": {
      "text/html": [
       "<div>\n",
       "<table border=\"1\" class=\"dataframe\">\n",
       "  <thead>\n",
       "    <tr style=\"text-align: right;\">\n",
       "      <th></th>\n",
       "      <th>handle</th>\n",
       "      <th>text</th>\n",
       "      <th>time</th>\n",
       "    </tr>\n",
       "    <tr>\n",
       "      <th>id</th>\n",
       "      <th></th>\n",
       "      <th></th>\n",
       "      <th></th>\n",
       "    </tr>\n",
       "  </thead>\n",
       "  <tbody>\n",
       "    <tr>\n",
       "      <th>780925634159796224</th>\n",
       "      <td>HillaryClinton</td>\n",
       "      <td>The question in this election: Who can put the...</td>\n",
       "      <td>2016-09-28T00:22:34</td>\n",
       "    </tr>\n",
       "    <tr>\n",
       "      <th>780916180899037184</th>\n",
       "      <td>HillaryClinton</td>\n",
       "      <td>Last night, Donald Trump said not paying taxes...</td>\n",
       "      <td>2016-09-27T23:45:00</td>\n",
       "    </tr>\n",
       "    <tr>\n",
       "      <th>780911564857761793</th>\n",
       "      <td>HillaryClinton</td>\n",
       "      <td>Couldn't be more proud of @HillaryClinton. Her...</td>\n",
       "      <td>2016-09-27T23:26:40</td>\n",
       "    </tr>\n",
       "    <tr>\n",
       "      <th>780907038650068994</th>\n",
       "      <td>HillaryClinton</td>\n",
       "      <td>If we stand together, there's nothing we can't...</td>\n",
       "      <td>2016-09-27T23:08:41</td>\n",
       "    </tr>\n",
       "    <tr>\n",
       "      <th>780897419462602752</th>\n",
       "      <td>HillaryClinton</td>\n",
       "      <td>Both candidates were asked about how they'd co...</td>\n",
       "      <td>2016-09-27T22:30:27</td>\n",
       "    </tr>\n",
       "  </tbody>\n",
       "</table>\n",
       "</div>"
      ],
      "text/plain": [
       "                            handle  \\\n",
       "id                                   \n",
       "780925634159796224  HillaryClinton   \n",
       "780916180899037184  HillaryClinton   \n",
       "780911564857761793  HillaryClinton   \n",
       "780907038650068994  HillaryClinton   \n",
       "780897419462602752  HillaryClinton   \n",
       "\n",
       "                                                                 text  \\\n",
       "id                                                                      \n",
       "780925634159796224  The question in this election: Who can put the...   \n",
       "780916180899037184  Last night, Donald Trump said not paying taxes...   \n",
       "780911564857761793  Couldn't be more proud of @HillaryClinton. Her...   \n",
       "780907038650068994  If we stand together, there's nothing we can't...   \n",
       "780897419462602752  Both candidates were asked about how they'd co...   \n",
       "\n",
       "                                   time  \n",
       "id                                       \n",
       "780925634159796224  2016-09-28T00:22:34  \n",
       "780916180899037184  2016-09-27T23:45:00  \n",
       "780911564857761793  2016-09-27T23:26:40  \n",
       "780907038650068994  2016-09-27T23:08:41  \n",
       "780897419462602752  2016-09-27T22:30:27  "
      ]
     },
     "execution_count": 2,
     "metadata": {},
     "output_type": "execute_result"
    }
   ],
   "source": [
    "data = DataFrame.from_csv(\"tweets.csv\")[[\"handle\", \"text\", \"time\"]]\n",
    "data.head()"
   ]
  },
  {
   "cell_type": "code",
   "execution_count": 3,
   "metadata": {
    "collapsed": false
   },
   "outputs": [
    {
     "name": "stdout",
     "output_type": "stream",
     "text": [
      "start: 2016-01-05T03:36:53 end: 2016-09-28T00:22:34\n"
     ]
    }
   ],
   "source": [
    "print(\"start:\", min(data[\"time\"]), \"end:\", max(data[\"time\"]))"
   ]
  },
  {
   "cell_type": "code",
   "execution_count": 4,
   "metadata": {
    "collapsed": false
   },
   "outputs": [
    {
     "data": {
      "image/png": "[encoded data removed]",
      "text/plain": [
       "<matplotlib.figure.Figure at 0x848d710>"
      ]
     },
     "metadata": {},
     "output_type": "display_data"
    }
   ],
   "source": [
    "plt.figure()\n",
    "data.handle.value_counts().plot.bar()\n",
    "plt.show()"
   ]
  },
  {
   "cell_type": "code",
   "execution_count": 5,
   "metadata": {
    "collapsed": false
   },
   "outputs": [],
   "source": [
    "complete_HillaryClinton = []\n",
    "for v,tweet in enumerate(data[data.handle == \"HillaryClinton\"].text) :\n",
    "    complete_HillaryClinton+= [{\"text\": tweet.replace(\"\\n\", \" \"), \"time\": data[data.handle == \"HillaryClinton\"].time.iloc[v][:10]}]\n",
    "\n",
    "complete_realDonaldTrump = []\n",
    "for v,tweet in enumerate(data[data.handle == \"realDonaldTrump\"].text) :\n",
    "    complete_realDonaldTrump+= [{\"text\": tweet.replace(\"\\n\", \" \"), \"time\":data[data.handle == \"realDonaldTrump\"].time.iloc[v][:10]} ]"
   ]
  },
  {
   "cell_type": "markdown",
   "metadata": {},
   "source": [
    "Then, I scrape this [list of word from wikipedia](https://en.wikipedia.org/wiki/Most_common_words_in_English) to get some words I do not want to appear in my visualisation : "
   ]
  },
  {
   "cell_type": "code",
   "execution_count": 6,
   "metadata": {
    "collapsed": false
   },
   "outputs": [
    {
     "data": {
      "text/plain": [
       "101"
      ]
     },
     "execution_count": 6,
     "metadata": {},
     "output_type": "execute_result"
    }
   ],
   "source": [
    "most_common_word = []\n",
    "from_wiki = BeautifulSoup(urllib.request.urlopen(\"https://en.wikipedia.org/wiki/Most_common_words_in_English\").read(), 'html.parser')\n",
    "\n",
    "for i in from_wiki.find_all(\"td\"):\n",
    "    if i.string :\n",
    "        if not i.string.isdigit():\n",
    "            most_common_word+=[i.string]\n",
    "\n",
    "most_common_word = list(set(most_common_word)-set([\"I\",\"you\", \"we\"]))  #I am interrested in the words \"I\", \"you\" and \"we\"\n",
    "most_common_word +=[\"are\", \"has\", \"had\", \"is\"] # but I am not interested in these\n",
    "\n",
    "len(most_common_word)"
   ]
  },
  {
   "cell_type": "code",
   "execution_count": 7,
   "metadata": {
    "collapsed": false
   },
   "outputs": [
    {
     "data": {
      "text/plain": [
       "['look', 'work', 'not', 'way', 'some']"
      ]
     },
     "execution_count": 7,
     "metadata": {},
     "output_type": "execute_result"
    }
   ],
   "source": [
    "most_common_word[0:5] #I will exclude this word from the visu"
   ]
  },
  {
   "cell_type": "code",
   "execution_count": 8,
   "metadata": {
    "collapsed": false
   },
   "outputs": [
    {
     "data": {
      "text/plain": [
       "{'text': 'Join me for a 3pm rally - tomorrow at the Mid-America Center in Council Bluffs, Iowa! Tickets:… https://t.co/dfzsbICiXc',\n",
       " 'time': '2016-09-27'}"
      ]
     },
     "execution_count": 8,
     "metadata": {},
     "output_type": "execute_result"
    }
   ],
   "source": [
    "complete_realDonaldTrump[0]"
   ]
  },
  {
   "cell_type": "markdown",
   "metadata": {},
   "source": [
    "Exportation : "
   ]
  },
  {
   "cell_type": "code",
   "execution_count": 9,
   "metadata": {
    "collapsed": false
   },
   "outputs": [
    {
     "data": {
      "text/plain": [
       "6568"
      ]
     },
     "execution_count": 9,
     "metadata": {},
     "output_type": "execute_result"
    }
   ],
   "source": [
    "exclude = set(string.punctuation + \"”—“\")\n",
    "\n",
    "index_HillaryClinton = {}\n",
    "for v,tweet in enumerate(complete_HillaryClinton): \n",
    "    tweet = tweet[\"text\"]\n",
    "    tweet = ''.join(ch for ch in tweet if ch not in exclude).lower()\n",
    "    for word in [i for i in list(set(tweet.split(\" \")) - set(most_common_word)) if i[:4] !=\"http\"]:\n",
    "        if word == \"\":\n",
    "            continue\n",
    "        if word not in index_HillaryClinton.keys():\n",
    "            index_HillaryClinton[word]=[v]\n",
    "        else:\n",
    "            index_HillaryClinton[word]+=[v]\n",
    "            \n",
    "index_realDonaldTrump = {}\n",
    "for v,tweet in enumerate(complete_realDonaldTrump):   \n",
    "    tweet = tweet[\"text\"]\n",
    "    tweet = ''.join(ch for ch in tweet if ch not in exclude).lower()\n",
    "    for word in [i for i in list(set(tweet.split(\" \")) - set(most_common_word)) if i[:4] !=\"http\"]:\n",
    "        if word == \"\":\n",
    "            continue\n",
    "        if word not in index_realDonaldTrump.keys():\n",
    "            index_realDonaldTrump[word]=[v]\n",
    "        else:\n",
    "            index_realDonaldTrump[word]+=[v]\n",
    "len(index_HillaryClinton)"
   ]
  },
  {
   "cell_type": "code",
   "execution_count": 10,
   "metadata": {
    "collapsed": false
   },
   "outputs": [
    {
     "data": {
      "text/plain": [
       "6356"
      ]
     },
     "execution_count": 10,
     "metadata": {},
     "output_type": "execute_result"
    }
   ],
   "source": [
    "len(index_realDonaldTrump)"
   ]
  },
  {
   "cell_type": "code",
   "execution_count": 11,
   "metadata": {
    "collapsed": false
   },
   "outputs": [
    {
     "data": {
      "text/plain": [
       "[{'order': 1, 'score': 21.952971301876776, 'word': 'trump'},\n",
       " {'order': 2, 'score': 21.078599756425067, 'word': 'hillary'},\n",
       " {'order': 3, 'score': 16.831652249945353, 'word': 'we'},\n",
       " {'order': 4, 'score': 12.928207850607377, 'word': 'donald'},\n",
       " {'order': 5, 'score': 12.428566967492115, 'word': 'you'},\n",
       " {'order': 6, 'score': 8.8061705649064734, 'word': 'i'},\n",
       " {'order': 7, 'score': 8.1816194610123976, 'word': 'president'},\n",
       " {'order': 8, 'score': 5.3399119382943514, 'word': 'america'},\n",
       " {'order': 9, 'score': 4.9339537207632009, 'word': 'trumps'},\n",
       " {'order': 10, 'score': 4.6529057240108678, 'word': 'more'}]"
      ]
     },
     "execution_count": 11,
     "metadata": {},
     "output_type": "execute_result"
    }
   ],
   "source": [
    "order_HillaryClinton=[]\n",
    "for i in index_HillaryClinton.keys():\n",
    "    order_HillaryClinton += [i]*len(index_HillaryClinton[i])\n",
    "s = Series(order_HillaryClinton).value_counts(normalize=True, sort=True)*1000\n",
    "\n",
    "order_HillaryClinton = []\n",
    "for v,i in enumerate(s.index):\n",
    "    order_HillaryClinton+=[{\"word\": i, \"score\": s.loc[i], \"order\": v+1}]\n",
    "order_HillaryClinton[:10]"
   ]
  },
  {
   "cell_type": "code",
   "execution_count": 12,
   "metadata": {
    "collapsed": false
   },
   "outputs": [
    {
     "data": {
      "text/plain": [
       "[{'order': 1, 'score': 21.422502730913948, 'word': 'i'},\n",
       " {'order': 2, 'score': 20.967350406602744, 'word': 'you'},\n",
       " {'order': 3, 'score': 15.687583444592791, 'word': 'thank'},\n",
       " {'order': 4, 'score': 13.351134846461949, 'word': 'great'},\n",
       " {'order': 5, 'score': 10.559533924019906, 'word': 'trump2016'},\n",
       " {'order': 6, 'score': 10.195412064570943, 'word': 'trump'},\n",
       " {'order': 7, 'score': 9.8919771816968076, 'word': 'hillary'},\n",
       " {'order': 8, 'score': 9.770603228547154, 'word': 'realdonaldtrump'},\n",
       " {'order': 9, 'score': 7.8286199781526893, 'word': 'we'},\n",
       " {'order': 10, 'score': 7.6465590484282071, 'word': 'makeamericagreatagain'}]"
      ]
     },
     "execution_count": 12,
     "metadata": {},
     "output_type": "execute_result"
    }
   ],
   "source": [
    "order_realDonaldTrump=[]\n",
    "for i in index_realDonaldTrump.keys():\n",
    "    order_realDonaldTrump += [i]*len(index_realDonaldTrump[i])\n",
    "s = Series(order_realDonaldTrump).value_counts(normalize=True, sort=True)*1000\n",
    "\n",
    "order_realDonaldTrump=[]\n",
    "for v,i in enumerate(s.index):\n",
    "    order_realDonaldTrump+=[{\"word\": i, \"score\": s.loc[i], \"order\": v+1}]\n",
    "order_realDonaldTrump[:10]"
   ]
  },
  {
   "cell_type": "code",
   "execution_count": 13,
   "metadata": {
    "collapsed": false
   },
   "outputs": [],
   "source": [
    "with open('tweets.json', 'w') as f: #this data file is used in: \n",
    "     json.dump({\"complete_HillaryClinton\": complete_HillaryClinton, \n",
    "                \"complete_realDonaldTrump\": complete_realDonaldTrump,\n",
    "                \"index_HillaryClinton\": index_HillaryClinton,\n",
    "                \"index_realDonaldTrump\": index_realDonaldTrump,\n",
    "                \"order_HillaryClinton\": order_HillaryClinton,\n",
    "                \"order_realDonaldTrump\": order_realDonaldTrump}, f)"
   ]
  }
 ],
 "metadata": {
  "kernelspec": {
   "display_name": "Python 3",
   "language": "python",
   "name": "python3"
  },
  "language_info": {
   "codemirror_mode": {
    "name": "ipython",
    "version": 3
   },
   "file_extension": ".py",
   "mimetype": "text/x-python",
   "name": "python",
   "nbconvert_exporter": "python",
   "pygments_lexer": "ipython3",
   "version": "3.4.4"
  }
 },
 "nbformat": 4,
 "nbformat_minor": 0
}
