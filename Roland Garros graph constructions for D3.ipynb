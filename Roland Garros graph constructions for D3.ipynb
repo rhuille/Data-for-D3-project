{
 "cells": [
  {
   "cell_type": "markdown",
   "metadata": {},
   "source": [
    "<img src=\"http://www.so-tennis.fr/wp-content/uploads/2014/09/terre-battue.jpg\" style=\"width:1000px;height:200px;\" />"
   ]
  },
  {
   "cell_type": "markdown",
   "metadata": {},
   "source": [
    "The purpose of this Notebook is to create the *.json* file containing the data of [this interractive graph](http://bl.ocks.org/rhuille/8c1c29a182f186d3f17a1f67f90faf96), a visualization of the last seven [Roland Garros](http://www.rolandgarros.com/en_FR/news/index.html) finals rounds.\n",
    "\n",
    "The dataset *rolland_garros.csv* come from [this python script](http://nbviewer.jupyter.org/github/rhuille/Scrap-tennis-data/blob/master/Scrap%20Equipe%20website.ipynb) scraping.\n",
    "\n",
    "(My graph is smaller than the one above ! )"
   ]
  },
  {
   "cell_type": "code",
   "execution_count": 1,
   "metadata": {
    "collapsed": false
   },
   "outputs": [],
   "source": [
    "from pandas import *\n",
    "import json"
   ]
  },
  {
   "cell_type": "code",
   "execution_count": 2,
   "metadata": {
    "collapsed": false
   },
   "outputs": [
    {
     "data": {
      "text/html": [
       "<div>\n",
       "<table border=\"1\" class=\"dataframe\">\n",
       "  <thead>\n",
       "    <tr style=\"text-align: right;\">\n",
       "      <th></th>\n",
       "      <th>Losers</th>\n",
       "      <th>Rounds</th>\n",
       "      <th>Scores_Losers</th>\n",
       "      <th>Scores_Winners</th>\n",
       "      <th>Winners</th>\n",
       "      <th>Years</th>\n",
       "    </tr>\n",
       "  </thead>\n",
       "  <tbody>\n",
       "    <tr>\n",
       "      <th>0</th>\n",
       "      <td>TSONGA</td>\n",
       "      <td>4</td>\n",
       "      <td>177661</td>\n",
       "      <td>65576</td>\n",
       "      <td>DJOKOVIC</td>\n",
       "      <td>2012</td>\n",
       "    </tr>\n",
       "    <tr>\n",
       "      <th>1</th>\n",
       "      <td>DEL POTRO</td>\n",
       "      <td>4</td>\n",
       "      <td>674203</td>\n",
       "      <td>36666</td>\n",
       "      <td>FEDERER</td>\n",
       "      <td>2012</td>\n",
       "    </tr>\n",
       "    <tr>\n",
       "      <th>2</th>\n",
       "      <td>MURRAY</td>\n",
       "      <td>4</td>\n",
       "      <td>47332</td>\n",
       "      <td>6666</td>\n",
       "      <td>FERRER</td>\n",
       "      <td>2012</td>\n",
       "    </tr>\n",
       "    <tr>\n",
       "      <th>3</th>\n",
       "      <td>ALMAGRO</td>\n",
       "      <td>4</td>\n",
       "      <td>6423</td>\n",
       "      <td>766</td>\n",
       "      <td>NADAL</td>\n",
       "      <td>2012</td>\n",
       "    </tr>\n",
       "    <tr>\n",
       "      <th>4</th>\n",
       "      <td>FEDERER</td>\n",
       "      <td>5</td>\n",
       "      <td>453</td>\n",
       "      <td>676</td>\n",
       "      <td>DJOKOVIC</td>\n",
       "      <td>2012</td>\n",
       "    </tr>\n",
       "  </tbody>\n",
       "</table>\n",
       "</div>"
      ],
      "text/plain": [
       "      Losers  Rounds Scores_Losers Scores_Winners   Winners  Years\n",
       "0     TSONGA       4        177661          65576  DJOKOVIC   2012\n",
       "1  DEL POTRO       4        674203          36666   FEDERER   2012\n",
       "2     MURRAY       4         47332           6666    FERRER   2012\n",
       "3    ALMAGRO       4          6423            766     NADAL   2012\n",
       "4    FEDERER       5           453            676  DJOKOVIC   2012"
      ]
     },
     "execution_count": 2,
     "metadata": {},
     "output_type": "execute_result"
    }
   ],
   "source": [
    "df = read_csv(\"rolland_garros.csv\")\n",
    "df.head() #only the \"Losers\" and \"Winners\" columns will be used"
   ]
  },
  {
   "cell_type": "code",
   "execution_count": 3,
   "metadata": {
    "collapsed": false
   },
   "outputs": [
    {
     "data": {
      "text/plain": [
       "(49, 6)"
      ]
     },
     "execution_count": 3,
     "metadata": {},
     "output_type": "execute_result"
    }
   ],
   "source": [
    "df.shape"
   ]
  },
  {
   "cell_type": "code",
   "execution_count": 4,
   "metadata": {
    "collapsed": false
   },
   "outputs": [],
   "source": [
    "nodes = []\n",
    "for player in list(set(df[\"Losers\"]).union(df[\"Winners\"])):\n",
    "    nodes += [{\"id\": player, \"victory\": len(df[df.Winners == player]), \"defeat\": len(df[df.Losers == player])}]"
   ]
  },
  {
   "cell_type": "code",
   "execution_count": 5,
   "metadata": {
    "collapsed": false
   },
   "outputs": [],
   "source": [
    "counter = {}\n",
    "for j in range(df.shape[0]):\n",
    "    if (df.Winners[j], df.Losers[j]) not in counter.keys():\n",
    "        counter[df.Winners[j], df.Losers[j]]=1\n",
    "    else:\n",
    "        counter[df.Winners[j], df.Losers[j]]+=1"
   ]
  },
  {
   "cell_type": "code",
   "execution_count": 6,
   "metadata": {
    "collapsed": false
   },
   "outputs": [],
   "source": [
    "links={}\n",
    "for i in counter:\n",
    "    if (i[1],i[0]) not in links.keys():\n",
    "        links[i]={'source': i[0], 'target': i[1], 'victory '+i[0]: counter[i] ,'victory '+i[1]: 0}\n",
    "        for j in counter:\n",
    "            if j == (i[1],i[0]):\n",
    "                links[i]['victory '+i[1]]=counter[j]"
   ]
  },
  {
   "cell_type": "code",
   "execution_count": 7,
   "metadata": {
    "collapsed": false
   },
   "outputs": [],
   "source": [
    "with open('rolland.json', 'w') as f: #this data file is used in: \n",
    "     json.dump({\"nodes\": nodes, \"links\": list(links.values())}, f)"
   ]
  },
  {
   "cell_type": "markdown",
   "metadata": {},
   "source": [
    "Come to see [the interactive graph](http://bl.ocks.org/rhuille/8c1c29a182f186d3f17a1f67f90faf96) I buildt with [D3](d3js.org) !"
   ]
  }
 ],
 "metadata": {
  "kernelspec": {
   "display_name": "Python 3",
   "language": "python",
   "name": "python3"
  },
  "language_info": {
   "codemirror_mode": {
    "name": "ipython",
    "version": 3
   },
   "file_extension": ".py",
   "mimetype": "text/x-python",
   "name": "python",
   "nbconvert_exporter": "python",
   "pygments_lexer": "ipython3",
   "version": "3.4.4"
  }
 },
 "nbformat": 4,
 "nbformat_minor": 0
}
