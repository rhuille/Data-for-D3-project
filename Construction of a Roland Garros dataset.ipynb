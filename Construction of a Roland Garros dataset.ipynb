{
 "cells": [
  {
   "cell_type": "markdown",
   "metadata": {},
   "source": [
    "<img src=\"http://www.chad02129.org/wp-content/uploads/2013/12/Landscape-BallsonRack.png\" style=\"width:1000px;height:100px;\" />"
   ]
  },
  {
   "cell_type": "markdown",
   "metadata": {},
   "source": [
    "The purpose of this Notebook is to construct a cool dataset containing data about men matchs of the last seven [Roland Garros](http://www.rolandgarros.com/en_FR/news/index.html).\n",
    "We will scrap data from *Equipe* newspaper website."
   ]
  },
  {
   "cell_type": "code",
   "execution_count": 1,
   "metadata": {
    "collapsed": false
   },
   "outputs": [],
   "source": [
    "from urllib import request\n",
    "from bs4 import BeautifulSoup\n",
    "from pandas import DataFrame"
   ]
  },
  {
   "cell_type": "markdown",
   "metadata": {},
   "source": [
    "Here is the list of the *Equipe* newspaper urls from where we scrap:"
   ]
  },
  {
   "cell_type": "code",
   "execution_count": 2,
   "metadata": {
    "collapsed": false
   },
   "outputs": [],
   "source": [
    "list_tournois = {\n",
    "    \"2016\" : \"http://www.lequipe.fr/Tennis/SH_RG.html\" ,\n",
    "    \"2015\" : \"http://www.lequipe.fr/Tennis/TennisTableauTournoi5637.html\",\n",
    "    \"2014\" : \"http://www.lequipe.fr/Tennis/TennisTableauTournoi4939.html\",\n",
    "    \"2013\" : \"http://www.lequipe.fr/Tennis/TennisTableauTournoi4456.html\",\n",
    "    \"2012\" : \"http://www.lequipe.fr/Tennis/TennisTableauTournoi3687.html\",\n",
    "    \"2011\" : \"http://www.lequipe.fr/Tennis/TennisTableauTournoi3114.html\",\n",
    "    \"2010\" :\"http://www.lequipe.fr/Tennis/TennisTableauTournoi2672.html\"\n",
    " }"
   ]
  },
  {
   "cell_type": "code",
   "execution_count": 3,
   "metadata": {
    "collapsed": true
   },
   "outputs": [],
   "source": [
    "def is_joueur(tag):\n",
    "    return tag.has_attr('nomcomplet')"
   ]
  },
  {
   "cell_type": "markdown",
   "metadata": {},
   "source": [
    "Data will be stored in 5 lists.\n",
    "Here is the hierarchical structure of the Equipe website table:\n",
    "- table\n",
    "    - rounds\n",
    "        - matchs\n",
    "            - players\n",
    "            - scores"
   ]
  },
  {
   "cell_type": "code",
   "execution_count": 4,
   "metadata": {
    "collapsed": false
   },
   "outputs": [],
   "source": [
    "winners = []\n",
    "losers = []\n",
    "years = []\n",
    "scores_winners = []\n",
    "scores_losers = []\n",
    "rounds = []\n",
    "\n",
    "for year in list_tournois.keys():\n",
    "    data = request.urlopen(list_tournois[year]).read()\n",
    "    soup = BeautifulSoup(data, 'html.parser')\n",
    "    \n",
    "    table = soup.find(id = \"rateau\") #table is a html element containing all the data we want !\n",
    "\n",
    "    dict_rounds = {}\n",
    "    for i in [4,5,6]: # I only take the three last rounds. It is possible to take more.\n",
    "        dict_rounds[i] = table.findAll(\"div\", attrs = {\"numtour\": str(i)})[0] #we first parse table in rounds\n",
    "\n",
    "    dict_match = {}\n",
    "    for i in dict_rounds.keys(): #we parse dict_rounds[i] (which is the i-th rounds) in matchs\n",
    "            dict_match[i] = dict_rounds[i].findAll(\"div\", attrs = {\"class\": \"joueurs\"})\n",
    "\n",
    "    for i in dict_match.keys(): #dict_match[i] is the matchs list corresponding to the round i\n",
    "        for k in dict_match[i]: #k is a match\n",
    "            years += [year]\n",
    "            rounds += [i]\n",
    "            for j in k.findAll(\"a\"):\n",
    "                if \"gagne\" in j[\"class\"]:\n",
    "                    winners += [j.findAll(is_joueur)[0][\"nomcomplet\"] ]\n",
    "                    scores_winners += [j.findAll(attrs={\"class\": \"score\"})[0].text]\n",
    "                else:\n",
    "                    losers += [j.findAll(is_joueur)[0][\"nomcomplet\"] ]\n",
    "                    scores_losers += [j.findAll(attrs={\"class\": \"score\"})[0].text]    "
   ]
  },
  {
   "cell_type": "markdown",
   "metadata": {},
   "source": [
    "Now we can construct the Data Frame from our list : "
   ]
  },
  {
   "cell_type": "code",
   "execution_count": 5,
   "metadata": {
    "collapsed": false
   },
   "outputs": [
    {
     "data": {
      "text/html": [
       "<div>\n",
       "<table border=\"1\" class=\"dataframe\">\n",
       "  <thead>\n",
       "    <tr style=\"text-align: right;\">\n",
       "      <th></th>\n",
       "      <th>Losers</th>\n",
       "      <th>Rounds</th>\n",
       "      <th>Scores_Losers</th>\n",
       "      <th>Scores_Winners</th>\n",
       "      <th>Winners</th>\n",
       "      <th>Years</th>\n",
       "    </tr>\n",
       "  </thead>\n",
       "  <tbody>\n",
       "    <tr>\n",
       "      <th>0</th>\n",
       "      <td>TSONGA</td>\n",
       "      <td>4</td>\n",
       "      <td>177661</td>\n",
       "      <td>65576</td>\n",
       "      <td>DJOKOVIC</td>\n",
       "      <td>2012</td>\n",
       "    </tr>\n",
       "    <tr>\n",
       "      <th>1</th>\n",
       "      <td>DEL POTRO</td>\n",
       "      <td>4</td>\n",
       "      <td>674203</td>\n",
       "      <td>36666</td>\n",
       "      <td>FEDERER</td>\n",
       "      <td>2012</td>\n",
       "    </tr>\n",
       "    <tr>\n",
       "      <th>2</th>\n",
       "      <td>MURRAY</td>\n",
       "      <td>4</td>\n",
       "      <td>47332</td>\n",
       "      <td>6666</td>\n",
       "      <td>FERRER</td>\n",
       "      <td>2012</td>\n",
       "    </tr>\n",
       "    <tr>\n",
       "      <th>3</th>\n",
       "      <td>ALMAGRO</td>\n",
       "      <td>4</td>\n",
       "      <td>6423</td>\n",
       "      <td>766</td>\n",
       "      <td>NADAL</td>\n",
       "      <td>2012</td>\n",
       "    </tr>\n",
       "    <tr>\n",
       "      <th>4</th>\n",
       "      <td>FEDERER</td>\n",
       "      <td>5</td>\n",
       "      <td>453</td>\n",
       "      <td>676</td>\n",
       "      <td>DJOKOVIC</td>\n",
       "      <td>2012</td>\n",
       "    </tr>\n",
       "  </tbody>\n",
       "</table>\n",
       "</div>"
      ],
      "text/plain": [
       "      Losers  Rounds Scores_Losers Scores_Winners   Winners Years\n",
       "0     TSONGA       4        177661          65576  DJOKOVIC  2012\n",
       "1  DEL POTRO       4        674203          36666   FEDERER  2012\n",
       "2     MURRAY       4         47332           6666    FERRER  2012\n",
       "3    ALMAGRO       4          6423            766     NADAL  2012\n",
       "4    FEDERER       5           453            676  DJOKOVIC  2012"
      ]
     },
     "execution_count": 5,
     "metadata": {},
     "output_type": "execute_result"
    }
   ],
   "source": [
    "df = DataFrame({\"Winners\": winners, \"Losers\": losers, \"Years\" : years, \"Rounds\" : rounds,\n",
    "                \"Scores_Winners\": scores_winners, \"Scores_Losers\": scores_losers})\n",
    "df.head()"
   ]
  },
  {
   "cell_type": "code",
   "execution_count": 6,
   "metadata": {
    "collapsed": false
   },
   "outputs": [],
   "source": [
    "df.to_csv(\"rolland_garros.csv\", index=False)"
   ]
  },
  {
   "cell_type": "markdown",
   "metadata": {
    "collapsed": true
   },
   "source": [
    "I used this dataset to construct a interactive graph with [D3](https://d3js.org/). Come see it [here](http://bl.ocks.org/rhuille/8c1c29a182f186d3f17a1f67f90faf96) !"
   ]
  }
 ],
 "metadata": {
  "kernelspec": {
   "display_name": "Python 3",
   "language": "python",
   "name": "python3"
  },
  "language_info": {
   "codemirror_mode": {
    "name": "ipython",
    "version": 3
   },
   "file_extension": ".py",
   "mimetype": "text/x-python",
   "name": "python",
   "nbconvert_exporter": "python",
   "pygments_lexer": "ipython3",
   "version": "3.4.4"
  }
 },
 "nbformat": 4,
 "nbformat_minor": 0
}
