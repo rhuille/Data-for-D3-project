{
 "cells": [
  {
   "cell_type": "markdown",
   "metadata": {},
   "source": [
    "# Roland Garros graph\n",
    "\n",
    "This notebook prepares and collects data for this visu : https://bl.ocks.org/rhuille/8c1c29a182f186d3f17a1f67f90faf96"
   ]
  },
  {
   "cell_type": "markdown",
   "metadata": {},
   "source": [
    "The purpose of this Notebook is to construct a cool dataset containing data about men matchs of the last seven [Roland Garros](http://www.rolandgarros.com/en_FR/news/index.html). The preparation is in two step :\n",
    "\n",
    "- 1 - **I scrap data from *Equipe* newspaper website.** Data are then stored in a .csv file\n",
    "- 2 - **I create a .json file representing the graph**\n",
    "\n",
    "Equipe website I scrap : http://www.lequipe.fr/Tennis/SH_RG.html\n",
    "\n",
    "*NB : If the Equipe website changes in the future, this notebook might not work anymore.*"
   ]
  },
  {
   "cell_type": "markdown",
   "metadata": {},
   "source": [
    "## 1 - Scrapping"
   ]
  },
  {
   "cell_type": "code",
   "execution_count": 3,
   "metadata": {},
   "outputs": [],
   "source": [
    "from urllib import request\n",
    "from bs4 import BeautifulSoup\n",
    "from pandas import DataFrame"
   ]
  },
  {
   "cell_type": "markdown",
   "metadata": {},
   "source": [
    "Here is the list of the *Equipe* newspaper urls from where I scrap:"
   ]
  },
  {
   "cell_type": "code",
   "execution_count": 4,
   "metadata": {},
   "outputs": [],
   "source": [
    "list_tournois = {\n",
    "    \"2016\" : \"http://www.lequipe.fr/Tennis/SH_RG.html\" ,\n",
    "    \"2015\" : \"http://www.lequipe.fr/Tennis/TennisTableauTournoi5637.html\",\n",
    "    \"2014\" : \"http://www.lequipe.fr/Tennis/TennisTableauTournoi4939.html\",\n",
    "    \"2013\" : \"http://www.lequipe.fr/Tennis/TennisTableauTournoi4456.html\",\n",
    "    \"2012\" : \"http://www.lequipe.fr/Tennis/TennisTableauTournoi3687.html\",\n",
    "    \"2011\" : \"http://www.lequipe.fr/Tennis/TennisTableauTournoi3114.html\",\n",
    "    \"2010\" :\"http://www.lequipe.fr/Tennis/TennisTableauTournoi2672.html\"\n",
    " }"
   ]
  },
  {
   "cell_type": "code",
   "execution_count": 5,
   "metadata": {
    "collapsed": true
   },
   "outputs": [],
   "source": [
    "def is_joueur(tag):\n",
    "    return tag.has_attr('nomcomplet')"
   ]
  },
  {
   "cell_type": "markdown",
   "metadata": {},
   "source": [
    "Data will be stored in 5 lists.\n",
    "Here is the hierarchical structure of the Equipe website table:\n",
    "- table\n",
    "    - rounds\n",
    "        - matchs\n",
    "            - players\n",
    "            - scores"
   ]
  },
  {
   "cell_type": "code",
   "execution_count": 6,
   "metadata": {},
   "outputs": [],
   "source": [
    "winners = []\n",
    "losers = []\n",
    "years = []\n",
    "scores_winners = []\n",
    "scores_losers = []\n",
    "rounds = []\n",
    "\n",
    "for year in list_tournois.keys():\n",
    "    data = request.urlopen(list_tournois[year]).read()\n",
    "    soup = BeautifulSoup(data, 'html.parser')\n",
    "    \n",
    "    table = soup.find(id = \"rateau\") #table is a html element containing all the data we want !\n",
    "\n",
    "    dict_rounds = {}\n",
    "    for i in [4,5,6]: # I only take the three last rounds. It is possible to take more.\n",
    "        dict_rounds[i] = table.findAll(\"div\", attrs = {\"numtour\": str(i)})[0] #we first parse table in rounds\n",
    "\n",
    "    dict_match = {}\n",
    "    for i in dict_rounds.keys(): #we parse dict_rounds[i] (which is the i-th rounds) in matchs\n",
    "            dict_match[i] = dict_rounds[i].findAll(\"div\", attrs = {\"class\": \"joueurs\"})\n",
    "\n",
    "    for i in dict_match.keys(): #dict_match[i] is the matchs list corresponding to the round i\n",
    "        for k in dict_match[i]: #k is a match\n",
    "            years += [year]\n",
    "            rounds += [i]\n",
    "            for j in k.findAll(\"a\"):\n",
    "                if \"gagne\" in j[\"class\"]:\n",
    "                    winners += [j.findAll(is_joueur)[0][\"nomcomplet\"] ]\n",
    "                    scores_winners += [j.findAll(attrs={\"class\": \"score\"})[0].text]\n",
    "                else:\n",
    "                    losers += [j.findAll(is_joueur)[0][\"nomcomplet\"] ]\n",
    "                    scores_losers += [j.findAll(attrs={\"class\": \"score\"})[0].text]    "
   ]
  },
  {
   "cell_type": "markdown",
   "metadata": {},
   "source": [
    "Now we can construct the Data Frame from our list : "
   ]
  },
  {
   "cell_type": "code",
   "execution_count": 7,
   "metadata": {},
   "outputs": [
    {
     "data": {
      "text/html": [
       "<div>\n",
       "<style>\n",
       "    .dataframe thead tr:only-child th {\n",
       "        text-align: right;\n",
       "    }\n",
       "\n",
       "    .dataframe thead th {\n",
       "        text-align: left;\n",
       "    }\n",
       "\n",
       "    .dataframe tbody tr th {\n",
       "        vertical-align: top;\n",
       "    }\n",
       "</style>\n",
       "<table border=\"1\" class=\"dataframe\">\n",
       "  <thead>\n",
       "    <tr style=\"text-align: right;\">\n",
       "      <th></th>\n",
       "      <th>Losers</th>\n",
       "      <th>Rounds</th>\n",
       "      <th>Scores_Losers</th>\n",
       "      <th>Scores_Winners</th>\n",
       "      <th>Winners</th>\n",
       "      <th>Years</th>\n",
       "    </tr>\n",
       "  </thead>\n",
       "  <tbody>\n",
       "    <tr>\n",
       "      <th>0</th>\n",
       "      <td>NISHIKORI</td>\n",
       "      <td>4</td>\n",
       "      <td>61601</td>\n",
       "      <td>2676</td>\n",
       "      <td>MURRAY</td>\n",
       "      <td>2016</td>\n",
       "    </tr>\n",
       "    <tr>\n",
       "      <th>1</th>\n",
       "      <td>CILIC</td>\n",
       "      <td>4</td>\n",
       "      <td>331</td>\n",
       "      <td>666</td>\n",
       "      <td>WAWRINKA</td>\n",
       "      <td>2016</td>\n",
       "    </tr>\n",
       "    <tr>\n",
       "      <th>2</th>\n",
       "      <td>CARRENO BUSTA</td>\n",
       "      <td>4</td>\n",
       "      <td>20 ab.</td>\n",
       "      <td>62</td>\n",
       "      <td>NADAL</td>\n",
       "      <td>2016</td>\n",
       "    </tr>\n",
       "    <tr>\n",
       "      <th>3</th>\n",
       "      <td>DJOKOVIC</td>\n",
       "      <td>4</td>\n",
       "      <td>6530</td>\n",
       "      <td>766</td>\n",
       "      <td>THIEM</td>\n",
       "      <td>2016</td>\n",
       "    </tr>\n",
       "    <tr>\n",
       "      <th>4</th>\n",
       "      <td>MURRAY</td>\n",
       "      <td>5</td>\n",
       "      <td>7637631</td>\n",
       "      <td>66576</td>\n",
       "      <td>WAWRINKA</td>\n",
       "      <td>2016</td>\n",
       "    </tr>\n",
       "  </tbody>\n",
       "</table>\n",
       "</div>"
      ],
      "text/plain": [
       "          Losers  Rounds Scores_Losers Scores_Winners   Winners Years\n",
       "0      NISHIKORI       4        61601           2676     MURRAY  2016\n",
       "1          CILIC       4          331            666   WAWRINKA  2016\n",
       "2  CARRENO BUSTA       4        20 ab.            62      NADAL  2016\n",
       "3       DJOKOVIC       4         6530            766      THIEM  2016\n",
       "4         MURRAY       5      7637631          66576   WAWRINKA  2016"
      ]
     },
     "execution_count": 7,
     "metadata": {},
     "output_type": "execute_result"
    }
   ],
   "source": [
    "df = DataFrame({\"Winners\": winners, \"Losers\": losers, \"Years\" : years, \"Rounds\" : rounds,\n",
    "                \"Scores_Winners\": scores_winners, \"Scores_Losers\": scores_losers})\n",
    "df.head()"
   ]
  },
  {
   "cell_type": "code",
   "execution_count": 8,
   "metadata": {},
   "outputs": [],
   "source": [
    "df.to_csv(\"rolland_garros.csv\", index=False)"
   ]
  },
  {
   "cell_type": "code",
   "execution_count": null,
   "metadata": {
    "collapsed": true
   },
   "outputs": [],
   "source": []
  },
  {
   "cell_type": "markdown",
   "metadata": {},
   "source": [
    "## 2 - Creation of the graph"
   ]
  },
  {
   "cell_type": "code",
   "execution_count": 9,
   "metadata": {
    "collapsed": true
   },
   "outputs": [],
   "source": [
    "from pandas import *\n",
    "import json"
   ]
  },
  {
   "cell_type": "code",
   "execution_count": 10,
   "metadata": {},
   "outputs": [
    {
     "data": {
      "text/html": [
       "<div>\n",
       "<style>\n",
       "    .dataframe thead tr:only-child th {\n",
       "        text-align: right;\n",
       "    }\n",
       "\n",
       "    .dataframe thead th {\n",
       "        text-align: left;\n",
       "    }\n",
       "\n",
       "    .dataframe tbody tr th {\n",
       "        vertical-align: top;\n",
       "    }\n",
       "</style>\n",
       "<table border=\"1\" class=\"dataframe\">\n",
       "  <thead>\n",
       "    <tr style=\"text-align: right;\">\n",
       "      <th></th>\n",
       "      <th>Losers</th>\n",
       "      <th>Rounds</th>\n",
       "      <th>Scores_Losers</th>\n",
       "      <th>Scores_Winners</th>\n",
       "      <th>Winners</th>\n",
       "      <th>Years</th>\n",
       "    </tr>\n",
       "  </thead>\n",
       "  <tbody>\n",
       "    <tr>\n",
       "      <th>0</th>\n",
       "      <td>NISHIKORI</td>\n",
       "      <td>4</td>\n",
       "      <td>61601</td>\n",
       "      <td>2676</td>\n",
       "      <td>MURRAY</td>\n",
       "      <td>2016</td>\n",
       "    </tr>\n",
       "    <tr>\n",
       "      <th>1</th>\n",
       "      <td>CILIC</td>\n",
       "      <td>4</td>\n",
       "      <td>331</td>\n",
       "      <td>666</td>\n",
       "      <td>WAWRINKA</td>\n",
       "      <td>2016</td>\n",
       "    </tr>\n",
       "    <tr>\n",
       "      <th>2</th>\n",
       "      <td>CARRENO BUSTA</td>\n",
       "      <td>4</td>\n",
       "      <td>20 ab.</td>\n",
       "      <td>62</td>\n",
       "      <td>NADAL</td>\n",
       "      <td>2016</td>\n",
       "    </tr>\n",
       "    <tr>\n",
       "      <th>3</th>\n",
       "      <td>DJOKOVIC</td>\n",
       "      <td>4</td>\n",
       "      <td>6530</td>\n",
       "      <td>766</td>\n",
       "      <td>THIEM</td>\n",
       "      <td>2016</td>\n",
       "    </tr>\n",
       "    <tr>\n",
       "      <th>4</th>\n",
       "      <td>MURRAY</td>\n",
       "      <td>5</td>\n",
       "      <td>7637631</td>\n",
       "      <td>66576</td>\n",
       "      <td>WAWRINKA</td>\n",
       "      <td>2016</td>\n",
       "    </tr>\n",
       "  </tbody>\n",
       "</table>\n",
       "</div>"
      ],
      "text/plain": [
       "          Losers  Rounds Scores_Losers Scores_Winners   Winners  Years\n",
       "0      NISHIKORI       4        61601           2676     MURRAY   2016\n",
       "1          CILIC       4          331            666   WAWRINKA   2016\n",
       "2  CARRENO BUSTA       4        20 ab.            62      NADAL   2016\n",
       "3       DJOKOVIC       4         6530            766      THIEM   2016\n",
       "4         MURRAY       5      7637631          66576   WAWRINKA   2016"
      ]
     },
     "execution_count": 10,
     "metadata": {},
     "output_type": "execute_result"
    }
   ],
   "source": [
    "df = read_csv(\"rolland_garros.csv\")\n",
    "df.head() #NB : only the \"Losers\" and \"Winners\" columns will be used"
   ]
  },
  {
   "cell_type": "code",
   "execution_count": 11,
   "metadata": {},
   "outputs": [
    {
     "data": {
      "text/plain": [
       "(49, 6)"
      ]
     },
     "execution_count": 11,
     "metadata": {},
     "output_type": "execute_result"
    }
   ],
   "source": [
    "df.shape"
   ]
  },
  {
   "cell_type": "code",
   "execution_count": 12,
   "metadata": {
    "collapsed": true
   },
   "outputs": [],
   "source": [
    "nodes = []\n",
    "for player in list(set(df[\"Losers\"]).union(df[\"Winners\"])):\n",
    "    nodes += [{\"id\": player, \"victory\": len(df[df.Winners == player]), \"defeat\": len(df[df.Losers == player])}]"
   ]
  },
  {
   "cell_type": "code",
   "execution_count": 13,
   "metadata": {
    "collapsed": true
   },
   "outputs": [],
   "source": [
    "counter = {}\n",
    "for j in range(df.shape[0]):\n",
    "    if (df.Winners[j], df.Losers[j]) not in counter.keys():\n",
    "        counter[df.Winners[j], df.Losers[j]]=1\n",
    "    else:\n",
    "        counter[df.Winners[j], df.Losers[j]]+=1"
   ]
  },
  {
   "cell_type": "code",
   "execution_count": 14,
   "metadata": {
    "collapsed": true
   },
   "outputs": [],
   "source": [
    "links={}\n",
    "for i in counter:\n",
    "    if (i[1],i[0]) not in links.keys():\n",
    "        links[i]={'source': i[0], 'target': i[1], 'victory '+i[0]: counter[i] ,'victory '+i[1]: 0}\n",
    "        for j in counter:\n",
    "            if j == (i[1],i[0]):\n",
    "                links[i]['victory '+i[1]]=counter[j]"
   ]
  },
  {
   "cell_type": "code",
   "execution_count": 15,
   "metadata": {
    "collapsed": true
   },
   "outputs": [],
   "source": [
    "with open('rolland.json', 'w') as f:\n",
    "     json.dump({\"nodes\": nodes, \"links\": list(links.values())}, f)"
   ]
  },
  {
   "cell_type": "code",
   "execution_count": null,
   "metadata": {
    "collapsed": true
   },
   "outputs": [],
   "source": []
  }
 ],
 "metadata": {
  "kernelspec": {
   "display_name": "Python 3",
   "language": "python",
   "name": "python3"
  },
  "language_info": {
   "codemirror_mode": {
    "name": "ipython",
    "version": 3
   },
   "file_extension": ".py",
   "mimetype": "text/x-python",
   "name": "python",
   "nbconvert_exporter": "python",
   "pygments_lexer": "ipython3",
   "version": "3.6.3"
  }
 },
 "nbformat": 4,
 "nbformat_minor": 1
}
