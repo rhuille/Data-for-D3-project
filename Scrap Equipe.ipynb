{
 "cells": [
  {
   "cell_type": "code",
   "execution_count": 1,
   "metadata": {
    "collapsed": false
   },
   "outputs": [],
   "source": [
    "from urllib import request\n",
    "from bs4 import BeautifulSoup\n",
    "from pandas import *"
   ]
  },
  {
   "cell_type": "code",
   "execution_count": 2,
   "metadata": {
    "collapsed": false
   },
   "outputs": [],
   "source": [
    "list_tournois = {  \n",
    "    \"2016\" : \"http://www.lequipe.fr/Tennis/SH_RG.html\" ,\n",
    "    \"2015\" : \"http://www.lequipe.fr/Tennis/TennisTableauTournoi5637.html\",\n",
    "    \"2014\" : \"http://www.lequipe.fr/Tennis/TennisTableauTournoi4939.html\",\n",
    "    \"2013\" : \"http://www.lequipe.fr/Tennis/TennisTableauTournoi4456.html\",\n",
    "    \"2012\" : \"http://www.lequipe.fr/Tennis/TennisTableauTournoi3687.html\",\n",
    "    \"2011\" : \"http://www.lequipe.fr/Tennis/TennisTableauTournoi3114.html\",\n",
    "    \"2010\" :\"http://www.lequipe.fr/Tennis/TennisTableauTournoi2672.html\"\n",
    " }"
   ]
  },
  {
   "cell_type": "code",
   "execution_count": 3,
   "metadata": {
    "collapsed": true
   },
   "outputs": [],
   "source": [
    "def is_joueur(tag):\n",
    "    return tag.has_attr('nomcomplet')"
   ]
  },
  {
   "cell_type": "code",
   "execution_count": 7,
   "metadata": {
    "collapsed": false
   },
   "outputs": [],
   "source": [
    "winners = []\n",
    "losers = []\n",
    "years = []\n",
    "scores_winners = []\n",
    "scores_losers = []\n",
    "\n",
    "for year in list_tournois.keys():\n",
    "    data = request.urlopen(list_tournois[year]).read()\n",
    "    soup = BeautifulSoup(data, 'html.parser')\n",
    "    \n",
    "    table = soup.find(id = \"rateau\")\n",
    "\n",
    "    list_rounds = []\n",
    "    for i in [4,5,6]: #I only take the three last rounds. It is possible to take more ! \n",
    "        list_rounds+=table.findAll(\"div\", attrs = {\"numtour\": str(i)})\n",
    "\n",
    "    list_match = []\n",
    "    for i in list_rounds:\n",
    "            list_match += i.findAll(\"div\", attrs = {\"class\": \"joueurs\"}) \n",
    "\n",
    "    for v,i in enumerate(list_match):\n",
    "        years+=[year]\n",
    "        for j in i.findAll(\"a\"):\n",
    "            if \"gagne\" in j[\"class\"]:\n",
    "                winners += [j.findAll(is_joueur)[0][\"nomcomplet\"] ]\n",
    "                scores_winners += [j.findAll(attrs={\"class\": \"score\"})[0].text]\n",
    "            else:\n",
    "                losers += [j.findAll(is_joueur)[0][\"nomcomplet\"] ]\n",
    "                scores_losers += [j.findAll(attrs={\"class\": \"score\"})[0].text]\n"
   ]
  },
  {
   "cell_type": "code",
   "execution_count": 8,
   "metadata": {
    "collapsed": false
   },
   "outputs": [
    {
     "data": {
      "text/html": [
       "<div>\n",
       "<table border=\"1\" class=\"dataframe\">\n",
       "  <thead>\n",
       "    <tr style=\"text-align: right;\">\n",
       "      <th></th>\n",
       "      <th>Losers</th>\n",
       "      <th>Scores_Losers</th>\n",
       "      <th>Scores_Winners</th>\n",
       "      <th>Winners</th>\n",
       "      <th>Years</th>\n",
       "    </tr>\n",
       "  </thead>\n",
       "  <tbody>\n",
       "    <tr>\n",
       "      <th>0</th>\n",
       "      <td>TSONGA</td>\n",
       "      <td>177661</td>\n",
       "      <td>65576</td>\n",
       "      <td>DJOKOVIC</td>\n",
       "      <td>2012</td>\n",
       "    </tr>\n",
       "    <tr>\n",
       "      <th>1</th>\n",
       "      <td>DEL POTRO</td>\n",
       "      <td>674203</td>\n",
       "      <td>36666</td>\n",
       "      <td>FEDERER</td>\n",
       "      <td>2012</td>\n",
       "    </tr>\n",
       "    <tr>\n",
       "      <th>2</th>\n",
       "      <td>MURRAY</td>\n",
       "      <td>47332</td>\n",
       "      <td>6666</td>\n",
       "      <td>FERRER</td>\n",
       "      <td>2012</td>\n",
       "    </tr>\n",
       "    <tr>\n",
       "      <th>3</th>\n",
       "      <td>ALMAGRO</td>\n",
       "      <td>6423</td>\n",
       "      <td>766</td>\n",
       "      <td>NADAL</td>\n",
       "      <td>2012</td>\n",
       "    </tr>\n",
       "    <tr>\n",
       "      <th>4</th>\n",
       "      <td>FEDERER</td>\n",
       "      <td>453</td>\n",
       "      <td>676</td>\n",
       "      <td>DJOKOVIC</td>\n",
       "      <td>2012</td>\n",
       "    </tr>\n",
       "  </tbody>\n",
       "</table>\n",
       "</div>"
      ],
      "text/plain": [
       "      Losers Scores_Losers Scores_Winners   Winners Years\n",
       "0     TSONGA        177661          65576  DJOKOVIC  2012\n",
       "1  DEL POTRO        674203          36666   FEDERER  2012\n",
       "2     MURRAY         47332           6666    FERRER  2012\n",
       "3    ALMAGRO          6423            766     NADAL  2012\n",
       "4    FEDERER           453            676  DJOKOVIC  2012"
      ]
     },
     "execution_count": 8,
     "metadata": {},
     "output_type": "execute_result"
    }
   ],
   "source": [
    "df = DataFrame({\"Winners\": winners, \"Losers\": losers, \"Years\" : years,\n",
    "                \"Scores_Winners\": scores_winners, \"Scores_Losers\": scores_losers})\n",
    "df.head()"
   ]
  },
  {
   "cell_type": "code",
   "execution_count": 9,
   "metadata": {
    "collapsed": false
   },
   "outputs": [],
   "source": [
    "df.to_csv(\"rolland_garros.csv\", index=False)"
   ]
  },
  {
   "cell_type": "code",
   "execution_count": null,
   "metadata": {
    "collapsed": true
   },
   "outputs": [],
   "source": []
  }
 ],
 "metadata": {
  "kernelspec": {
   "display_name": "Python 3",
   "language": "python",
   "name": "python3"
  },
  "language_info": {
   "codemirror_mode": {
    "name": "ipython",
    "version": 3
   },
   "file_extension": ".py",
   "mimetype": "text/x-python",
   "name": "python",
   "nbconvert_exporter": "python",
   "pygments_lexer": "ipython3",
   "version": "3.4.4"
  }
 },
 "nbformat": 4,
 "nbformat_minor": 0
}
